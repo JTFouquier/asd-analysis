{
 "cells": [
  {
   "cell_type": "markdown",
   "metadata": {},
   "source": [
    "rerunning ASD analysis using qiime2"
   ]
  },
  {
   "cell_type": "code",
   "execution_count": null,
   "metadata": {},
   "outputs": [],
   "source": [
    "qiime tools import \\\n",
    "  --type EMPSingleEndSequences \\\n",
    "  --input-path ASD_barseq1 \\\n",
    "  --output-path ASD_barseq1.qza\n",
    "\n",
    "qiime tools import \\\n",
    "  --type EMPSingleEndSequences \\\n",
    "  --input-path ASD_barseq2 \\\n",
    "  --output-path ASD_barseq2.qza"
   ]
  },
  {
   "cell_type": "code",
   "execution_count": null,
   "metadata": {},
   "outputs": [],
   "source": [
    "qiime demux emp-single \n",
    "--i-seqs ASD_barseq1.qza \n",
    "--m-barcodes-file /Users/Nancy/Documents/Autism_Project/qiime2redo/ASD_barseq1/run1AllSamples.tsv \n",
    "--m-barcodes-column BarcodeSequence \n",
    "--o-per-sample-sequences demux1.qza \n",
    "--p-rev-comp-mapping-barcodes\n",
    "\n",
    "qiime demux emp-single \n",
    "--i-seqs ASD_barseq2.qza \n",
    "--m-barcodes-file /Users/Nancy/Documents/Autism_Project/qiime2redo/ASD_barseq2/run2AllSamples.tsv \n",
    "--m-barcodes-column BarcodeSequence \n",
    "--o-per-sample-sequences demux2.qza \n",
    "--p-rev-comp-mapping-barcodes"
   ]
  },
  {
   "cell_type": "markdown",
   "metadata": {},
   "source": [
    "obtain total initial sequences per run"
   ]
  },
  {
   "cell_type": "code",
   "execution_count": null,
   "metadata": {},
   "outputs": [],
   "source": [
    "qiime demux summarize \\\n",
    "  --i-data demux1.qza \\\n",
    "  --o-visualization demux1.qzv\n",
    "\n",
    "qiime demux summarize \\\n",
    "  --i-data demux2.qza \\\n",
    "  --o-visualization demux2.qzv"
   ]
  },
  {
   "cell_type": "code",
   "execution_count": null,
   "metadata": {},
   "outputs": [],
   "source": [
    "qiime dada2 denoise-single \\\n",
    ">   --i-demultiplexed-seqs demux1.qza \\\n",
    ">   --p-trim-left 10 \\\n",
    ">   --p-trunc-len 149 \\\n",
    ">   --o-representative-sequences rep-seqs1.qza \\\n",
    ">   --o-table table1.qza \\\n",
    ">   --o-denoising-stats stats1.qza\n",
    "\n",
    "qiime dada2 denoise-single \\\n",
    ">   --i-demultiplexed-seqs demux2.qza \\\n",
    ">   --p-trim-left 10 \\\n",
    ">   --p-trunc-len 149 \\\n",
    ">   --o-representative-sequences rep-seqs2.qza \\\n",
    ">   --o-table table2.qza \\\n",
    ">   --o-denoising-stats stats2.qza"
   ]
  },
  {
   "cell_type": "code",
   "execution_count": null,
   "metadata": {},
   "outputs": [],
   "source": [
    "qiime metadata tabulate \\\n",
    "  --m-input-file stats1.qza \\\n",
    "  --o-visualization stats1.qzv\n",
    "\n",
    "qiime metadata tabulate \\\n",
    "  --m-input-file stats2.qza \\\n",
    "  --o-visualization stats2.qzv"
   ]
  },
  {
   "cell_type": "markdown",
   "metadata": {},
   "source": [
    "obtained total sequences after dada2 under total frequency in table summary"
   ]
  },
  {
   "cell_type": "code",
   "execution_count": null,
   "metadata": {},
   "outputs": [],
   "source": [
    "qiime feature-table summarize \\\n",
    "  --i-table table1.qza \\\n",
    "  --o-visualization table1.qzv \\\n",
    "  --m-sample-metadata-file run1AllSamples.tsv \n",
    "\n",
    "qiime feature-table summarize \\\n",
    "  --i-table table2.qza \\\n",
    "  --o-visualization table2.qzv \\\n",
    "  --m-sample-metadata-file run2AllSamples.tsv "
   ]
  },
  {
   "cell_type": "code",
   "execution_count": null,
   "metadata": {},
   "outputs": [],
   "source": [
    "qiime feature-table tabulate-seqs \\\n",
    "  --i-data rep-seqs1.qza \\\n",
    "  --o-visualization rep-seqs1.qzv\n",
    "\n",
    "qiime feature-table tabulate-seqs \\\n",
    "  --i-data rep-seqs2.qza \\\n",
    "  --o-visualization rep-seqs2.qzv"
   ]
  },
  {
   "cell_type": "markdown",
   "metadata": {},
   "source": [
    "merge tables and rep-seqs"
   ]
  },
  {
   "cell_type": "code",
   "execution_count": null,
   "metadata": {},
   "outputs": [],
   "source": [
    "qiime feature-table merge \\\n",
    "  --i-tables table1.qza \\\n",
    "  --i-tables table2.qza \\\n",
    "  --o-merged-table table.qza\n",
    "\n",
    "qiime feature-table merge-seqs \\\n",
    "  --i-data rep-seqs1.qza \\\n",
    "  --i-data rep-seqs2.qza \\\n",
    "  --o-merged-data rep-seqs.qza"
   ]
  },
  {
   "cell_type": "markdown",
   "metadata": {},
   "source": [
    "can use merged rep-seqs in any subanalysis"
   ]
  },
  {
   "cell_type": "code",
   "execution_count": null,
   "metadata": {},
   "outputs": [],
   "source": [
    "qiime phylogeny align-to-tree-mafft-fasttree \\\n",
    ">    --i-sequences rep-seqs.qza \\\n",
    ">    --o-alignment aligned-rep-seqs.qza \\\n",
    ">    --o-masked-alignment masked-aligned-rep-seqs.qza \\\n",
    ">    --o-tree unrooted-tree.qza \\\n",
    ">    --o-rooted-tree rooted-tree.qza"
   ]
  },
  {
   "cell_type": "markdown",
   "metadata": {},
   "source": [
    "filter out table and rep-seqs file to match samples of interest in combined metadata"
   ]
  },
  {
   "cell_type": "code",
   "execution_count": null,
   "metadata": {},
   "outputs": [],
   "source": [
    "qiime feature-table filter-samples \\\n",
    "  --i-table table.qza \\\n",
    "  --m-metadata-file combineCohorts_metadata.tsv \\\n",
    "  --o-filtered-table id-filtered-table.qza"
   ]
  },
  {
   "cell_type": "code",
   "execution_count": null,
   "metadata": {},
   "outputs": [],
   "source": [
    "qiime feature-table filter-seqs \n",
    "--i-data rep-seqs.qza \n",
    "--i-table id-filtered-table.qza \n",
    "--o-filtered-data id-filtered-rep-seqs.qza\n"
   ]
  },
  {
   "cell_type": "markdown",
   "metadata": {},
   "source": [
    "view filtered table to choose rarefying depth (6529)"
   ]
  },
  {
   "cell_type": "code",
   "execution_count": null,
   "metadata": {},
   "outputs": [],
   "source": [
    "qiime feature-table summarize \\\n",
    "  --i-table id-filtered-table.qza \\\n",
    "  --o-visualization id-filtered-table.qzv \\\n",
    "  --m-sample-metadata-file combineCohorts_metadata.tsv"
   ]
  },
  {
   "cell_type": "code",
   "execution_count": null,
   "metadata": {},
   "outputs": [],
   "source": [
    "qiime phylogeny align-to-tree-mafft-fasttree \\\n",
    "   --i-sequences id-filtered-rep-seqs.qza \\\n",
    "   --o-alignment aligned-rep-seqs.qza \\\n",
    "   --o-masked-alignment masked-aligned-rep-seqs.qza \\\n",
    "   --o-tree unrooted-tree.qza \\\n",
    "   --o-rooted-tree rooted-tree.qza"
   ]
  },
  {
   "cell_type": "code",
   "execution_count": null,
   "metadata": {},
   "outputs": [],
   "source": [
    "qiime diversity core-metrics-phylogenetic \\\n",
    "  --i-phylogeny rooted-tree.qza \\\n",
    "  --i-table id-filtered-table.qza \\\n",
    "  --p-sampling-depth 6529 \\\n",
    "  --m-metadata-file combineCohorts_metadata.tsv \\\n",
    "  --output-dir core-metrics-results"
   ]
  },
  {
   "cell_type": "markdown",
   "metadata": {},
   "source": [
    "exporting files "
   ]
  },
  {
   "cell_type": "code",
   "execution_count": null,
   "metadata": {},
   "outputs": [],
   "source": [
    "qiime tools export \n",
    "--input-path /Users/Nancy/Documents/Autism_Project/qiime2redo/mergedTables/core-metrics-results/unweighted_unifrac_pcoa_results.qza  \n",
    "--output-path exports/\n",
    "\n",
    "qiime tools export \n",
    "--input-path /Users/Nancy/Documents/Autism_Project/qiime2redo/mergedTables/core-metrics-results/weighted_unifrac_pcoa_results.qza  \n",
    "--output-path exports/"
   ]
  },
  {
   "cell_type": "markdown",
   "metadata": {},
   "source": [
    "use these to feed into Mike's script, do this for PD and observed OTUs for both unweighted and weighted unifrac"
   ]
  },
  {
   "cell_type": "code",
   "execution_count": 5,
   "metadata": {},
   "outputs": [
    {
     "ename": "SyntaxError",
     "evalue": "invalid syntax (<ipython-input-5-040f43be4fda>, line 1)",
     "output_type": "error",
     "traceback": [
      "\u001b[0;36m  File \u001b[0;32m\"<ipython-input-5-040f43be4fda>\"\u001b[0;36m, line \u001b[0;32m1\u001b[0m\n\u001b[0;31m    python3 which_pc_explains.py\u001b[0m\n\u001b[0m            ^\u001b[0m\n\u001b[0;31mSyntaxError\u001b[0m\u001b[0;31m:\u001b[0m invalid syntax\n"
     ]
    }
   ],
   "source": [
    "python3 which_pc_explains.py \n",
    "-i /Users/Nancy/Documents/Autism_Project/qiime2redo/mergedTables/exports/ordination-weighted.txt \n",
    "-m /Users/Nancy/Documents/Autism_Project/qiime2redo/mergedTables/combineCohorts_metadata_alphaDiv_sp.tsv \n",
    "-o weightedPD.txt \n",
    "-c faith_pd \n",
    "--is_continuous"
   ]
  },
  {
   "cell_type": "markdown",
   "metadata": {},
   "source": [
    "obtain genus level table"
   ]
  },
  {
   "cell_type": "code",
   "execution_count": 3,
   "metadata": {},
   "outputs": [
    {
     "ename": "SyntaxError",
     "evalue": "invalid syntax (<ipython-input-3-2ddb5fb990b1>, line 1)",
     "output_type": "error",
     "traceback": [
      "\u001b[0;36m  File \u001b[0;32m\"<ipython-input-3-2ddb5fb990b1>\"\u001b[0;36m, line \u001b[0;32m1\u001b[0m\n\u001b[0;31m    qiime taxa collapse --i-table /Users/Nancy/Documents/Autism_Project/qiime2redo/mergedTables/combinedCohortsAnalysis/final_analysis/rarefied_table.qza --i-taxonomy /Users/Nancy/Documents/Autism_Project/qiime2redo/mergedTables/combinedCohortsAnalysis/final_analysis/taxonomy.qza --p-level 6 --o-collapsed-table rarefied_table_genus.qza\u001b[0m\n\u001b[0m          ^\u001b[0m\n\u001b[0;31mSyntaxError\u001b[0m\u001b[0;31m:\u001b[0m invalid syntax\n"
     ]
    }
   ],
   "source": [
    "qiime taxa collapse --i-table /Users/Nancy/Documents/Autism_Project/qiime2redo/mergedTables/combinedCohortsAnalysis/final_analysis/rarefied_table.qza --i-taxonomy /Users/Nancy/Documents/Autism_Project/qiime2redo/mergedTables/combinedCohortsAnalysis/final_analysis/taxonomy.qza --p-level 6 --o-collapsed-table rarefied_table_genus.qza"
   ]
  },
  {
   "cell_type": "markdown",
   "metadata": {},
   "source": [
    "run random forest"
   ]
  },
  {
   "cell_type": "code",
   "execution_count": null,
   "metadata": {},
   "outputs": [],
   "source": [
    "qiime sample-classifier classify-samples \n",
    "--i-table /Users/Nancy/Documents/Autism_Project/qiime2redo/mergedTables/combinedCohortsAnalysis/final_analysis/ASV/rarefied_table.qza \n",
    "--m-metadata-file /Users/Nancy/Documents/Autism_Project/qiime2redo/mergedTables/combinedCohortsAnalysis/final_analysis/combineCohorts_metadata.txt \n",
    "--m-metadata-column ASD \n",
    "--p-optimize-feature-selection \n",
    "--p-parameter-tuning \n",
    "--p-estimator RandomForestClassifier \n",
    "--p-n-estimators 500 \n",
    "--p-random-state 123 \n",
    "--p-n-jobs 6 \n",
    "--output-dir randomForestASV\n"
   ]
  },
  {
   "cell_type": "markdown",
   "metadata": {},
   "source": [
    "filter feature table to only include important features determined through random forest"
   ]
  },
  {
   "cell_type": "code",
   "execution_count": null,
   "metadata": {},
   "outputs": [],
   "source": [
    "qiime feature-table filter-features \n",
    "--i-table /Users/Nancy/Documents/Autism_Project/qiime2redo/mergedTables/combinedCohortsAnalysis/final_analysis/ASV/rarefied_table.qza \n",
    "--m-metadata-file /Users/Nancy/Documents/Autism_Project/qiime2redo/mergedTables/combinedCohortsAnalysis/final_analysis/ASV/randomForestASV/feature_importance.qza \n",
    "--o-filtered-table important-feature-table-ASV.qza\n"
   ]
  },
  {
   "cell_type": "code",
   "execution_count": null,
   "metadata": {},
   "outputs": [],
   "source": [
    "qiime tools export \n",
    "--input-path /Users/Nancy/Documents/Autism_Project/qiime2redo/mergedTables/combinedCohortsAnalysis/final_analysis/ASV/important-feature-table-ASV.qza \n",
    "--output-path . "
   ]
  },
  {
   "cell_type": "markdown",
   "metadata": {},
   "source": [
    "export feature-importance.qza to a tsv. For the ASV table, this will have the feature ID and the importance value. To find the taxa binned to this feature ID you need to export taxonomy.qza and match the feature IDs from the feature-importance.tsv to those in taxonomy.tsv. The taxonomy.tsv will have the name of the taxa they binned to. \n",
    "For the genus table, this will have the taxa name and the importance value. "
   ]
  },
  {
   "cell_type": "markdown",
   "metadata": {},
   "source": [
    "To obtain the counts of the taxa that had an importance value of 0.01 or greater, match the taxa names/ feature ids to those in the exported ASV/ genus table and then add this to the metadata. "
   ]
  },
  {
   "cell_type": "markdown",
   "metadata": {},
   "source": [
    "The exported biom table will have the counts I need to put into my metadata to run the R scrip that will do the following regression:\n",
    "glm(factor ~ ASD+ConstipationDiarrheaAbdominalPain_GI_Score+Cohort, data=metaData) "
   ]
  }
 ],
 "metadata": {
  "kernelspec": {
   "display_name": "Python 3",
   "language": "python",
   "name": "python3"
  },
  "language_info": {
   "codemirror_mode": {
    "name": "ipython",
    "version": 3
   },
   "file_extension": ".py",
   "mimetype": "text/x-python",
   "name": "python",
   "nbconvert_exporter": "python",
   "pygments_lexer": "ipython3",
   "version": "3.8.2"
  }
 },
 "nbformat": 4,
 "nbformat_minor": 2
}
