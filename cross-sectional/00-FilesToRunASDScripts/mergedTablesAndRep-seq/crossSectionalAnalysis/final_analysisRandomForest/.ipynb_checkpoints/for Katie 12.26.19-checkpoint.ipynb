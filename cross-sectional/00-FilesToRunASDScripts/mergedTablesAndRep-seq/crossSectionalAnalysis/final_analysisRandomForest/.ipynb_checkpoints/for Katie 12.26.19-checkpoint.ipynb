{
 "cells": [
  {
   "cell_type": "markdown",
   "metadata": {},
   "source": [
    "Use Keemei to validate your mapping file. This well check if you have missing data, spaces, weird characters etc.\n",
    "https://keemei.qiime2.org\n",
    "\n",
    "If you don't want to use this, you can build a simple metadata file \n",
    "with #SampleID bloodType Description as the 3 columns, feel free to add more columns just make sure that #SampleID is first and Description is last."
   ]
  },
  {
   "cell_type": "markdown",
   "metadata": {},
   "source": [
    "in your terminal, activate your qiime2 enviornment and run the scripts below, edit them to match your data"
   ]
  },
  {
   "cell_type": "markdown",
   "metadata": {},
   "source": [
    "filter your table to match the samples in your metadata"
   ]
  },
  {
   "cell_type": "code",
   "execution_count": null,
   "metadata": {},
   "outputs": [],
   "source": [
    "qiime feature-table filter-samples \\\n",
    "  --i-table table.qza \\\n",
    "  --m-metadata-file combineCohorts_metadata.tsv \\\n",
    "  --o-filtered-table id-filtered-table.qza"
   ]
  },
  {
   "cell_type": "markdown",
   "metadata": {},
   "source": [
    "view filtered table to choose rarefying/sampling depth "
   ]
  },
  {
   "cell_type": "code",
   "execution_count": null,
   "metadata": {},
   "outputs": [],
   "source": [
    "qiime feature-table summarize \\\n",
    "  --i-table id-filtered-table.qza \\\n",
    "  --o-visualization id-filtered-table.qzv \\\n",
    "  --m-sample-metadata-file combineCohorts_metadata.tsv"
   ]
  },
  {
   "cell_type": "markdown",
   "metadata": {},
   "source": [
    "Replace sampling-depth with the one chose above. In the script below, you'll put your tree, filtered table, sampling depth and metadata"
   ]
  },
  {
   "cell_type": "code",
   "execution_count": null,
   "metadata": {},
   "outputs": [],
   "source": [
    "qiime diversity core-metrics-phylogenetic \\\n",
    "  --i-phylogeny rooted-tree.qza \\\n",
    "  --i-table id-filtered-table.qza \\\n",
    "  --p-sampling-depth 6529 \\\n",
    "  --m-metadata-file combineCohorts_metadata.tsv \\\n",
    "  --output-dir core-metrics-results"
   ]
  },
  {
   "cell_type": "markdown",
   "metadata": {},
   "source": [
    "Error when creating taxa bar plots:\n",
    "\n",
    "Plugin error from taxa:\n",
    "\n",
    "  'float' object has no attribute 'split'"
   ]
  },
  {
   "cell_type": "markdown",
   "metadata": {},
   "source": [
    "from this thread: https://forum.qiime2.org/t/taxa-barplot-plugin-error/3219 (found by Katie)\n",
    "It looks like one or more of the feature ids did not get assigned a taxonomy.\n",
    "The steps I took are below:"
   ]
  },
  {
   "cell_type": "markdown",
   "metadata": {},
   "source": [
    "Export AHA-f253-silva-taxonomy.qza into the folder I am working in. It will export as a TSV. "
   ]
  },
  {
   "cell_type": "code",
   "execution_count": null,
   "metadata": {},
   "outputs": [],
   "source": [
    "qiime tools export --input-path /Users/Nancy/katie.12.26.19/AHA-f253-silva-taxonomy.qza --output-path ."
   ]
  },
  {
   "cell_type": "markdown",
   "metadata": {},
   "source": [
    "Delete the feature IDs that do not have a taxonomy classification and import this file"
   ]
  },
  {
   "cell_type": "code",
   "execution_count": null,
   "metadata": {},
   "outputs": [],
   "source": [
    "qiime tools import --type FeatureData[Taxonomy] --input-path /Users/Nancy/katie.12.26.19/taxonomy.tsv --output-path taxonomy.qza"
   ]
  },
  {
   "cell_type": "markdown",
   "metadata": {},
   "source": [
    "Filter out the features I deleted from AHA-f253-silva-taxonomy.qza from the id-filtered-table.qza.\n",
    "Looking at the TSV file, all of the annotations start with D_0 so delete the features that do not have this annotation."
   ]
  },
  {
   "cell_type": "code",
   "execution_count": null,
   "metadata": {},
   "outputs": [],
   "source": [
    "qiime taxa filter-table --i-table /Users/Nancy/katie.12.26.19/id-filtered-table.qza --i-taxonomy /Users/Nancy/katie.12.26.19/AHA-f253-silva-taxonomy.qza --p-include D_0 --o-filtered-table id-filtered-with-kingdom-table.qza"
   ]
  },
  {
   "cell_type": "markdown",
   "metadata": {},
   "source": [
    "Now create a taxa bar plot using taxonomy.qza and id-filtered-with-kingdom-table.qza"
   ]
  },
  {
   "cell_type": "code",
   "execution_count": null,
   "metadata": {},
   "outputs": [],
   "source": [
    "qiime taxa barplot --i-table /Users/Nancy/katie.12.26.19/id-filtered-with-kingdom-table.qza --i-taxonomy /Users/Nancy/katie.12.26.19/taxonomy.qza --m-metadata-file /Users/Nancy/katie.12.26.19/Simple_Meta_DRIFT2_BT.txt --o-visualization taxa-bar-plots.qzv"
   ]
  }
 ],
 "metadata": {
  "kernelspec": {
   "display_name": "Python 3",
   "language": "python",
   "name": "python3"
  },
  "language_info": {
   "codemirror_mode": {
    "name": "ipython",
    "version": 3
   },
   "file_extension": ".py",
   "mimetype": "text/x-python",
   "name": "python",
   "nbconvert_exporter": "python",
   "pygments_lexer": "ipython3",
   "version": "3.6.7"
  }
 },
 "nbformat": 4,
 "nbformat_minor": 2
}
